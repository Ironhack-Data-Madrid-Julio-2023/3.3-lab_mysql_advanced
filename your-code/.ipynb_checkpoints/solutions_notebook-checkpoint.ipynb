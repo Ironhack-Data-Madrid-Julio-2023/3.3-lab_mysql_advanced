{
 "cells": [
  {
   "cell_type": "code",
   "execution_count": 9,
   "id": "963430e1",
   "metadata": {},
   "outputs": [
    {
     "name": "stdout",
     "output_type": "stream",
     "text": [
      "Requirement already satisfied: mysql-connector-python in /Users/nico/anaconda3/lib/python3.10/site-packages (8.1.0)\n",
      "Requirement already satisfied: protobuf<=4.21.12,>=4.21.1 in /Users/nico/anaconda3/lib/python3.10/site-packages (from mysql-connector-python) (4.21.12)\n",
      "Note: you may need to restart the kernel to use updated packages.\n"
     ]
    }
   ],
   "source": [
    "%pip install mysql-connector-python"
   ]
  },
  {
   "cell_type": "code",
   "execution_count": 10,
   "id": "c53a1a11",
   "metadata": {},
   "outputs": [],
   "source": [
    "import mysql.connector as conn"
   ]
  },
  {
   "cell_type": "code",
   "execution_count": 11,
   "id": "daf988b9",
   "metadata": {},
   "outputs": [],
   "source": [
    "conexion = conn.connect(host='localhost',\n",
    "                        user='root',\n",
    "                        passwd='password') "
   ]
  },
  {
   "cell_type": "code",
   "execution_count": 12,
   "id": "e70fd28f",
   "metadata": {},
   "outputs": [
    {
     "data": {
      "text/plain": [
       "<mysql.connector.cursor.MySQLCursor at 0x7fbed86f8d00>"
      ]
     },
     "execution_count": 12,
     "metadata": {},
     "output_type": "execute_result"
    }
   ],
   "source": [
    "cursor = conexion.cursor()\n",
    "\n",
    "cursor"
   ]
  },
  {
   "cell_type": "code",
   "execution_count": 13,
   "id": "f3a2df40",
   "metadata": {},
   "outputs": [],
   "source": [
    "db = conn.connect(host='localhost',\n",
    "                  user='root',\n",
    "                  passwd='password',\n",
    "                  database='publications')  \n",
    "\n",
    "cursor = db.cursor()"
   ]
  },
  {
   "cell_type": "code",
   "execution_count": 14,
   "id": "1cb866bb",
   "metadata": {},
   "outputs": [],
   "source": [
    "query = '''\n",
    "\n",
    "select a.au_id, t.title_id, (t.price * s.qty * t.royalty / 100 * ta.royaltyper / 100) as sales_royalties\n",
    "from authors as a\n",
    "left join titleauthor as ta\n",
    "on ta.au_id = a.au_id\n",
    "left join titles as t\n",
    "on t.title_id = ta.title_id\n",
    "left join sales as s\n",
    "on s.title_id = t.title_id\n",
    "left join roysched as r\n",
    "on r.title_id = t.title_id\n",
    "group by s.qty,a.au_id, t.title_id, ta.royaltyper\n",
    "\n",
    "\n",
    "\n",
    "\n",
    "\n",
    "\n",
    "\n",
    "'''\n",
    "cursor.execute(query)"
   ]
  },
  {
   "cell_type": "code",
   "execution_count": 16,
   "id": "55fbc172",
   "metadata": {},
   "outputs": [],
   "source": [
    "query2 = '''\n",
    "\n",
    "select title_id, au_id, SUM(sales_royalties) AS sum_royalties\n",
    "from    \n",
    "(select a.au_id, t.title_id, (t.price * s.qty * t.royalty / 100 * ta.royaltyper / 100) as sales_royalties\n",
    "from \n",
    "authors as a\n",
    "left join titleauthor as ta\n",
    "on ta.au_id = a.au_id\n",
    "left join titles as t\n",
    "on t.title_id = ta.title_id\n",
    "left join sales as s\n",
    "on s.title_id = t.title_id\n",
    "left join roysched as r\n",
    "on r.title_id = t.title_id) as sub\n",
    "group by a.au_id, t.title_id\n",
    "\n",
    "\n",
    "'''\n"
   ]
  },
  {
   "cell_type": "code",
   "execution_count": null,
   "id": "0f362bf8",
   "metadata": {},
   "outputs": [],
   "source": [
    "query3 = '''\n",
    "SELECT\n",
    "    sub.au_id AS 'Author ID', SUM(t.advance) + SUM(sub.sum_royalties) AS total_profits\n",
    "from\n",
    "(select sub.title_id, sub.au_id, SUM(sub.sales_royalties) AS sum_royalties\n",
    "\tfrom    \n",
    "\t\t(select a.au_id, t.title_id, (t.price * s.qty * t.royalty / 100 * ta.royaltyper / 100) as sales_royalties\n",
    "\t\tfrom \n",
    "\t\tauthors as a\n",
    "\t\tleft join titleauthor as ta\n",
    "\t\t\ton ta.au_id = a.au_id\n",
    "\t\tleft join titles as t\n",
    "\t\t\ton t.title_id = ta.title_id\n",
    "\t\tleft join sales as s\n",
    "\t\t\ton s.title_id = t.title_id\n",
    "\t\tleft join roysched as r\n",
    "\t\t\ton r.title_id = t.title_id) as sub\n",
    "\t\tgroup by sub.au_id, sub.title_id) as sub\n",
    "\t\t\tjoin titles as t \n",
    "\t\t\t\ton t.title_id = sub.title_id\n",
    "                group by sub.au_id\n",
    "                order by total_profits DESC\n",
    "                limit 3\n",
    "\n",
    "\n",
    "\n",
    "\n",
    "\n",
    "\n",
    "\n",
    "'''"
   ]
  },
  {
   "cell_type": "code",
   "execution_count": null,
   "id": "b2fa4488",
   "metadata": {},
   "outputs": [],
   "source": [
    "## Challenge 2:\n",
    "query4= '''\n",
    "create temporary table tempo\n",
    "\n",
    "SELECT\n",
    "    sub.au_id AS 'Author ID', SUM(t.advance) + SUM(sub.sum_royalties) AS total_profits\n",
    " \n",
    "from\n",
    "(select sub.title_id, sub.au_id, SUM(sub.sales_royalties) AS sum_royalties\n",
    "\tfrom    \n",
    "\t\t(select a.au_id, t.title_id, (t.price * s.qty * t.royalty / 100 * ta.royaltyper / 100) as sales_royalties\n",
    "\t\tfrom \n",
    "\t\tauthors as a\n",
    "\t\tleft join titleauthor as ta\n",
    "\t\t\ton ta.au_id = a.au_id\n",
    "\t\tleft join titles as t\n",
    "\t\t\ton t.title_id = ta.title_id\n",
    "\t\tleft join sales as s\n",
    "\t\t\ton s.title_id = t.title_id\n",
    "\t\tleft join roysched as r\n",
    "\t\t\ton r.title_id = t.title_id) as sub\n",
    "\t\tgroup by sub.au_id, sub.title_id) as sub\n",
    "\t\t\tjoin titles as t \n",
    "\t\t\t\ton t.title_id = sub.title_id\n",
    "                group by sub.au_id\n",
    "                order by total_profits DESC\n",
    "                limit 3\n",
    "\n",
    "'''"
   ]
  },
  {
   "cell_type": "code",
   "execution_count": null,
   "id": "bd3963de",
   "metadata": {},
   "outputs": [],
   "source": [
    "## Challenge 3:\n",
    "query5 = '''\n",
    "create table perma as\n",
    "\n",
    "SELECT\n",
    "    sub.au_id AS 'Author ID', SUM(t.advance) + SUM(sub.sum_royalties) AS total_profits\n",
    "   \n",
    "from\n",
    "(select sub.title_id, sub.au_id, SUM(sub.sales_royalties) AS sum_royalties\n",
    "\tfrom    \n",
    "\t\t(select a.au_id, t.title_id, (t.price * s.qty * t.royalty / 100 * ta.royaltyper / 100) as sales_royalties\n",
    "\t\tfrom \n",
    "\t\tauthors as a\n",
    "\t\tleft join titleauthor as ta\n",
    "\t\t\ton ta.au_id = a.au_id\n",
    "\t\tleft join titles as t\n",
    "\t\t\ton t.title_id = ta.title_id\n",
    "\t\tleft join sales as s\n",
    "\t\t\ton s.title_id = t.title_id\n",
    "\t\tleft join roysched as r\n",
    "\t\t\ton r.title_id = t.title_id) as sub\n",
    "\t\tgroup by sub.au_id, sub.title_id) as sub\n",
    "\t\t\tjoin titles as t \n",
    "\t\t\t\ton t.title_id = sub.title_id\n",
    "                group by sub.au_id\n",
    "                order by total_profits DESC\n",
    "                limit 3\n",
    "\n",
    "'''"
   ]
  },
  {
   "cell_type": "code",
   "execution_count": null,
   "id": "3da5fc3b",
   "metadata": {},
   "outputs": [],
   "source": []
  },
  {
   "cell_type": "code",
   "execution_count": null,
   "id": "f41c5b75",
   "metadata": {},
   "outputs": [],
   "source": []
  },
  {
   "cell_type": "code",
   "execution_count": null,
   "id": "49174225",
   "metadata": {},
   "outputs": [],
   "source": []
  },
  {
   "cell_type": "code",
   "execution_count": null,
   "id": "2d4a95cf",
   "metadata": {},
   "outputs": [],
   "source": []
  },
  {
   "cell_type": "code",
   "execution_count": null,
   "id": "62b4d72d",
   "metadata": {},
   "outputs": [],
   "source": []
  },
  {
   "cell_type": "code",
   "execution_count": null,
   "id": "b9627000",
   "metadata": {},
   "outputs": [],
   "source": []
  },
  {
   "cell_type": "code",
   "execution_count": null,
   "id": "5865ac7f",
   "metadata": {},
   "outputs": [],
   "source": []
  },
  {
   "cell_type": "code",
   "execution_count": null,
   "id": "0092da3d",
   "metadata": {},
   "outputs": [],
   "source": []
  },
  {
   "cell_type": "code",
   "execution_count": null,
   "id": "74e12b2c",
   "metadata": {},
   "outputs": [],
   "source": []
  },
  {
   "cell_type": "code",
   "execution_count": null,
   "id": "7aae8cff",
   "metadata": {},
   "outputs": [],
   "source": []
  },
  {
   "cell_type": "code",
   "execution_count": null,
   "id": "8efb03d9",
   "metadata": {},
   "outputs": [],
   "source": []
  }
 ],
 "metadata": {
  "kernelspec": {
   "display_name": "Python 3 (ipykernel)",
   "language": "python",
   "name": "python3"
  },
  "language_info": {
   "codemirror_mode": {
    "name": "ipython",
    "version": 3
   },
   "file_extension": ".py",
   "mimetype": "text/x-python",
   "name": "python",
   "nbconvert_exporter": "python",
   "pygments_lexer": "ipython3",
   "version": "3.10.9"
  }
 },
 "nbformat": 4,
 "nbformat_minor": 5
}
